{
 "cells": [
  {
   "cell_type": "code",
   "execution_count": 1,
   "metadata": {},
   "outputs": [
    {
     "name": "stderr",
     "output_type": "stream",
     "text": [
      "c:\\a\\envs\\medical\\lib\\site-packages\\tqdm\\auto.py:21: TqdmWarning: IProgress not found. Please update jupyter and ipywidgets. See https://ipywidgets.readthedocs.io/en/stable/user_install.html\n",
      "  from .autonotebook import tqdm as notebook_tqdm\n"
     ]
    }
   ],
   "source": [
    "from langchain_google_genai import ChatGoogleGenerativeAI\n",
    "from langchain_google_genai import GoogleGenerativeAIEmbeddings\n",
    "from langchain_text_splitters import RecursiveCharacterTextSplitter\n",
    "from langchain.document_loaders import PyPDFLoader, DirectoryLoader\n",
    "from langchain_core.output_parsers import StrOutputParser\n",
    "from langchain_core.prompts import ChatPromptTemplate\n",
    "from langchain_core.runnables import RunnablePassthrough\n",
    "from langchain_astradb import AstraDBVectorStore\n",
    "from langchain.agents import AgentType,load_tools,initialize_agent\n",
    "from dotenv import load_dotenv\n",
    "import os"
   ]
  },
  {
   "cell_type": "code",
   "execution_count": 3,
   "metadata": {},
   "outputs": [],
   "source": [
    "load_dotenv()\n",
    "GOOGLE_API_KEY = os.getenv(\"GOOGLE_API_KEY\")\n",
    "\n",
    "llm = ChatGoogleGenerativeAI(temperature = 0.4,model = \"gemini-pro\")"
   ]
  },
  {
   "cell_type": "code",
   "execution_count": 3,
   "metadata": {},
   "outputs": [
    {
     "name": "stdout",
     "output_type": "stream",
     "text": [
      "I am Gemini, a multi-modal AI language model developed by Google. I am designed to provide information and assist with a wide range of language-related tasks, such as answering questions, generating text, translating languages, and writing different kinds of creative content.\n"
     ]
    }
   ],
   "source": [
    "print(llm.invoke(\"Who are you?.\").content)"
   ]
  },
  {
   "cell_type": "code",
   "execution_count": 4,
   "metadata": {},
   "outputs": [],
   "source": [
    "gemini_embeddings = GoogleGenerativeAIEmbeddings(model = \"models/embedding-001\")"
   ]
  },
  {
   "cell_type": "code",
   "execution_count": 5,
   "metadata": {},
   "outputs": [],
   "source": [
    "def load_pdf(data):\n",
    "    loader = DirectoryLoader(data,glob = \"*.pdf\",loader_cls = PyPDFLoader)\n",
    "    documents = loader.load()\n",
    "    return documents"
   ]
  },
  {
   "cell_type": "code",
   "execution_count": 6,
   "metadata": {},
   "outputs": [
    {
     "data": {
      "text/plain": [
       "637"
      ]
     },
     "execution_count": 6,
     "metadata": {},
     "output_type": "execute_result"
    }
   ],
   "source": [
    "extracted_documents = load_pdf(\"data/\")\n",
    "len(extracted_documents)"
   ]
  },
  {
   "cell_type": "code",
   "execution_count": 7,
   "metadata": {},
   "outputs": [],
   "source": [
    "def split_chunks(extracted_documents):\n",
    "    splitter = RecursiveCharacterTextSplitter(chunk_size = 500,chunk_overlap = 20)\n",
    "    text_chunks = splitter.split_documents(extracted_documents)\n",
    "    return text_chunks"
   ]
  },
  {
   "cell_type": "code",
   "execution_count": 8,
   "metadata": {},
   "outputs": [
    {
     "name": "stdout",
     "output_type": "stream",
     "text": [
      "7020 \n",
      "\n",
      "[Document(metadata={'source': 'data\\\\Medical_book.pdf', 'page': 1}, page_content='TheGALE\\nENCYCLOPEDIA\\nofMEDICINE\\nSECOND EDITION'), Document(metadata={'source': 'data\\\\Medical_book.pdf', 'page': 2}, page_content='TheGALE\\nENCYCLOPEDIA\\nofMEDICINE\\nSECOND EDITION\\nJACQUELINE L. LONGE, EDITOR\\nDEIRDRE S. BLANCHFIELD, ASSOCIATE EDITOR\\nVOLUME\\nA-B1'), Document(metadata={'source': 'data\\\\Medical_book.pdf', 'page': 3}, page_content='STAFF\\nJacqueline L. Longe, Project Editor\\nDeirdre S. Blanchfield, Associate Editor\\nChristine B. Jeryan, Managing Editor\\nDonna Olendorf, Senior Editor\\nStacey Blachford, Associate Editor\\nKate Kretschmann, Melissa C. McDade, Ryan\\nThomason, Assistant Editors\\nMark Springer, Technical Specialist\\nAndrea Lopeman, Programmer/Analyst\\nBarbara J. Yarrow, Manager, Imaging and Multimedia\\nContent\\nRobyn V . Young, Project Manager, Imaging and\\nMultimedia Content\\nDean Dauphinais, Senior Editor, Imaging and'), Document(metadata={'source': 'data\\\\Medical_book.pdf', 'page': 3}, page_content='Multimedia Content\\nKelly A. Quin, Editor, Imaging and Multimedia Content\\nLeitha Etheridge-Sims, Mary K. Grimes, Dave Oblender,\\nImage Catalogers\\nPamela A. Reed, Imaging Coordinator\\nRandy Bassett, Imaging Supervisor\\nRobert Duncan, Senior Imaging Specialist\\nDan Newell, Imaging Specialist\\nChristine O’Bryan, Graphic Specialist\\nMaria Franklin, Permissions Manager\\nMargaret A. Chamberlain, Permissions Specialist\\nMichelle DiMercurio, Senior Art Director\\nMike Logusz, Graphic Artist'), Document(metadata={'source': 'data\\\\Medical_book.pdf', 'page': 3}, page_content='Mary Beth Trimper, Manager, Composition and\\nElectronic Prepress\\nEvi Seoud, Assistant Manager, Composition Purchasing\\nand Electronic Prepress\\nDorothy Maki, Manufacturing Manager\\nWendy Blurton, Senior Manufacturing SpecialistThe GALE\\nENCYCLOPEDIA\\nof MEDICINE\\nSECOND EDITIONSince this page cannot legibly accommodate all copyright notices, the\\nacknowledgments constitute an extension of the copyright notice.\\nWhile every effort has been made to ensure the reliability of the infor-')]\n"
     ]
    }
   ],
   "source": [
    "text_chunks = split_chunks(extracted_documents)\n",
    "print(len(text_chunks),\"\\n\")\n",
    "print(text_chunks[:5])"
   ]
  },
  {
   "cell_type": "code",
   "execution_count": 9,
   "metadata": {},
   "outputs": [],
   "source": [
    "ASTRA_DB_API = os.getenv(\"ASTRA_TOKEN\")\n",
    "ASTRA_ENDPOINT = os.getenv(\"DB_ENDPOINT\")\n",
    "def ingest(status):\n",
    "    vector_store = AstraDBVectorStore(token = ASTRA_DB_API,\n",
    "                                      api_endpoint = ASTRA_ENDPOINT,\n",
    "                                      embedding = gemini_embeddings,\n",
    "                                      namespace = \"default_keyspace\",\n",
    "                                      collection_name = \"Medical\")\n",
    "    is_full = status\n",
    "    if is_full == None:#THIS MEANS THERE IS NO VECTORS CREATED IN DB\n",
    "        inserted_ids = vector_store.add_documents(text_chunks)\n",
    "    else:\n",
    "        return vector_store\n",
    "    \n",
    "    \n",
    "    return vector_store,inserted_ids\n",
    "\n",
    "    "
   ]
  },
  {
   "cell_type": "code",
   "execution_count": 10,
   "metadata": {},
   "outputs": [],
   "source": [
    "vector_store = ingest(\"done\")#None cuz we are making the DB for first time\n",
    "# print(f\"inserted {len(inserted_ids)} documents.\")"
   ]
  },
  {
   "cell_type": "code",
   "execution_count": 15,
   "metadata": {},
   "outputs": [
    {
     "name": "stdout",
     "output_type": "stream",
     "text": [
      "* heal, but rather becomescarred, a process known as fibrosis. The lack of a nor-mal amount of oxygen causes the blood vessels of thelung to become narrower, and in time they, too, maybecome scarred and filled with clotted blood. The lungsas a whole become very “stiff,” and it becomes muchharder for the patient to breathe. [{'source': 'data\\\\Medical_book.pdf', 'page': 80}]\n",
      "* Coughing brings up a greenish yellow phlegm or sputum.These symptoms may be accompanied by a fever of up\n",
      "to 102°F (38.8°C). Wheezing after coughing is common.\n",
      "In uncomplicated acute bronchitis, the fever and [{'source': 'data\\\\Medical_book.pdf', 'page': 611}]\n",
      "* inflammations of the air passages, their causes and treat-ments are different. Acute bronchitis is most prevalent inwinter. It usually follows a viral infection, such as a coldor the flu, and can be accompanied by a secondary bacter-ial infection. Acute bronchitis resolves within two weeks,although the cough may persist longer. Acute bronchitis,\n",
      "like any upper airway inflammatory process, can increasea person’s likelihood of developing pneumonia . [{'source': 'data\\\\Medical_book.pdf', 'page': 611}]\n",
      "* and the production of infected sputum (sputum is a mix-ture of mucus and pus), which may be bloody. In somecases, there may be wheezing and shortness of breath .\n",
      "The constant, low-level of infection may flare, resultingin increased production of sputum, worsening of thecough, and fever . The area of the lung served by the\n",
      "affected bronchial tube may become severely infected,resulting in pneumonia . [{'source': 'data\\\\Medical_book.pdf', 'page': 609}]\n"
     ]
    }
   ],
   "source": [
    "results = vector_store.similarity_search(\"What is pneumonia?\")\n",
    "for res in results:\n",
    "    print(f\"* {res.page_content} [{res.metadata}]\")"
   ]
  },
  {
   "cell_type": "code",
   "execution_count": 16,
   "metadata": {},
   "outputs": [],
   "source": [
    "retriever = vector_store.as_retriever(search_kwargs={\"k\": 3})\n",
    "\n",
    "template = \"\"\"You are a medical Chatbot who is expert in medicine knowledge and cure Context: {context}\n",
    "Question: {question} \n",
    "\"\"\"\n",
    "\n",
    "# template=\"\"\"\n",
    "# Use the following pieces of information to answer the user's question.\n",
    "\n",
    "# Context: {context}\n",
    "# Question: {question}\n",
    "\n",
    "#  .If user asks for medication then give name of them\n",
    "# Helpful answer:\n",
    "# \"\"\"\n",
    "\n",
    "prompt=ChatPromptTemplate.from_template(template)\n"
   ]
  },
  {
   "cell_type": "code",
   "execution_count": 17,
   "metadata": {},
   "outputs": [],
   "source": [
    "chain = ({\"context\":retriever,\"question\":RunnablePassthrough()}|prompt|llm|StrOutputParser())\n",
    "response = chain.invoke(\"What is Malaria?Prescribe some medicines\")"
   ]
  },
  {
   "cell_type": "code",
   "execution_count": 18,
   "metadata": {},
   "outputs": [
    {
     "name": "stdout",
     "output_type": "stream",
     "text": [
      "\n"
     ]
    }
   ],
   "source": [
    "print(response)"
   ]
  },
  {
   "cell_type": "code",
   "execution_count": 15,
   "metadata": {},
   "outputs": [],
   "source": [
    "serp_api_key = os.getenv(\"SERPAPI_API_KEY\")\n",
    "if not serp_api_key:\n",
    "    raise ValueError(\"SERP API key not found. Ensure 'SERP_KEY' is set in the environment variables.\")\n",
    "\n",
    "tool = load_tools([\"serpapi\"],serp_api_key = serp_api_key,llm = llm)\n",
    "agent = initialize_agent(tools = tool,llm = llm,agent = AgentType.ZERO_SHOT_REACT_DESCRIPTION,verbose=True)"
   ]
  },
  {
   "cell_type": "code",
   "execution_count": 17,
   "metadata": {},
   "outputs": [
    {
     "name": "stdout",
     "output_type": "stream",
     "text": [
      "\n",
      "\n",
      "\u001b[1m> Entering new AgentExecutor chain...\u001b[0m\n",
      "\u001b[32;1m\u001b[1;3mAction: Search\n",
      "Action Input: Best hospital in visakhapatnam\u001b[0m\n",
      "Observation: \u001b[36;1m\u001b[1;3m['1429 Hospitals in Visakhapatnam. Find ✓Multispeciality Hospitals, ✓Private Hospitals, ✓Dental Hospital , ✓Government Hospitals in Visakhapatnam.', 'Best Hospitals in Visakhapatnam. Apollo Healthcity Hospital. Ram Nagar, Visakhapatnam. The fastest-growing liver transplant program ...', 'Hospitals in Visakhapatnam · Padmasri Hospital & IVF Centre · Apollo Health City · Apollo Healthcity Hospital · Asian Institute of Nephrology and Urology.', 'CARE Hospitals is one of the best hospitals in Visakhapatnam/Vizag. We provide services in over 30 specialities like Cardiology, Cardiothoracic Surgery, ...', \"Queen's NRI Hospital ranks among the best hospitals in Vishakhapatnam. With experience of over 25 years in service, we are committed to ...\", 'Private hospitals like St. Stephens Hospital, Vadamalayan Hospitals, and Apollo Specialty Hospital are known for their state-of-the-art facilities and ...', 'Best Multispeciality Hospital in Vizag - LG Hospitals · Gastroenterology · Obstetrics · Neurology · Neuro Surgery · ENT · Throat Care.', 'SevenHills Hospital provides a wide range of treatment options for patients with simple and complex health conditions. We have state–of–the–art facility with a ...', [{'position': 1, 'rating': 4.8, 'reviews_original': '(3.6K)', 'reviews': 3600, 'description': '\"Very Good Hospital and staff.\"', 'place_id': '17344706242249709391', 'place_id_search': 'https://serpapi.com/search.json?device=desktop&engine=google&gl=us&google_domain=google.com&hl=en&ludocid=17344706242249709391&q=Best+hospital+in+visakhapatnam', 'lsig': 'AB86z5WZjmae3RMVNDil5BiLmiyA', 'thumbnail': 'https://serpapi.com/searches/6692651f3bea7b9eb26a9bb3/images/36169dd3e07b0f70cda0eebe37e721c0fe3eac48e2bf7355d9c77aa524ec7a30f2fdc318e4d57dcd.png', 'links': {'website': 'https://vizag.apollohospitals.com/apollo-hospitals-vizag/', 'directions': 'https://www.google.com/maps/dir//Apollo+Hospitals+Ramnagar+Vizag,+Door+No+10,+Executive+Court,+50-80,+Waltair+Main+Rd,+opp.+Daspalla,+Ram+Nagar,+Visakhapatnam,+Andhra+Pradesh+530002,+India/data=!4m6!4m5!1m1!4e2!1m2!1m1!1s0x3a3943169c8fac4f:0xf0b4c66e5ecb574f?sa=X&ved=2ahUKEwi1gbD89KOHAxUYRjABHX0PAEMQ48ADegQIKxAA&hl=en&gl=us'}, 'title': 'Apollo Hospitals Ramnagar Vizag', 'type': 'General hospital', 'phone': '+91 89127 27272', 'address': 'Door No 10, Executive Court, 50-80, Waltair Main Rd, opp. Daspalla', 'hours': 'Open 24 hours'}, {'position': 2, 'rating': 4.6, 'reviews_original': '(4.6K)', 'reviews': 4600, 'description': '\"Giridhar hariprasad sir is well and good.\"', 'place_id': '7082085292577420721', 'place_id_search': 'https://serpapi.com/search.json?device=desktop&engine=google&gl=us&google_domain=google.com&hl=en&ludocid=7082085292577420721&q=Best+hospital+in+visakhapatnam', 'lsig': 'AB86z5WufmesofK2dzAY_wv_Wave', 'thumbnail': 'https://serpapi.com/searches/6692651f3bea7b9eb26a9bb3/images/36169dd3e07b0f70cda0eebe37e721c0d4e1b66eb340b76aa4befd355638a84e0bf90751c5533005.png', 'links': {'website': 'https://www.carehospitals.com/hospital-detail/care-super-specialty-hospital-ramnagar', 'directions': 'https://www.google.com/maps/dir//CARE+Hospitals,+Visakhapatnam+%7C+Best+Hospital+in+Vizag,+AS+Raja+Complex,+10-50-11%2F5,+Waltair+Main+Rd,+Ram+Nagar,+Visakhapatnam,+Andhra+Pradesh+530002,+India/data=!4m6!4m5!1m1!4e2!1m2!1m1!1s0x3a394315702cc723:0x62489f0d151875b1?sa=X&ved=2ahUKEwi1gbD89KOHAxUYRjABHX0PAEMQ48ADegQILBAA&hl=en&gl=us'}, 'title': 'CARE Hospitals, Visakhapatnam | Best Hospital in Vizag', 'type': 'Hospital', 'phone': '+91 40 6810 6589', 'address': 'AS Raja Complex, 10-50-11/5, Waltair Main Rd', 'hours': 'Open 24 hours'}, {'position': 3, 'rating': 4.5, 'reviews_original': '(9.4K)', 'reviews': 9400, 'description': '\"707 services good\"', 'place_id': '15281612444197320731', 'place_id_search': 'https://serpapi.com/search.json?device=desktop&engine=google&gl=us&google_domain=google.com&hl=en&ludocid=15281612444197320731&q=Best+hospital+in+visakhapatnam', 'lsig': 'AB86z5VR3rnWw-qppx-Ps3gNrJ1Y', 'thumbnail': 'https://serpapi.com/searches/6692651f3bea7b9eb26a9bb3/images/36169dd3e07b0f70cda0eebe37e721c00863fb85d86a59ba5a5afbcd961d358d2453ddfa95f69e3b.png', 'links': {'website': 'https://www.medicoverhospitals.in/hospitals/andhra-pradesh/visakhapatnam-mvp', 'directions': 'https://www.google.com/maps/dir//Medicover+Hospitals+%7C+Best+Multi-speciality+Hospital+in+Vizag,+Door+No-+1-1-83,+New+Venkojipalem+MVP+sector+6,+NH16,+near+Hp+Petrol+Bunk,+Visakhapatnam,+Andhra+Pradesh+530022,+India/data=!4m6!4m5!1m1!4e2!1m2!1m1!1s0x3a395dd7d9ba1013:0xd413318d7391f81b?sa=X&ved=2ahUKEwi1gbD89KOHAxUYRjABHX0PAEMQ48ADegQIKhAA&hl=en&gl=us'}, 'title': 'Medicover Hospitals | Best Multi-speciality Hospital in Vizag', 'type': 'Hospital', 'phone': '+91 40 6833 4455', 'address': 'Door No- 1-1-83, New Venkojipalem MVP sector 6, NH16, near Hp Petrol Bunk', 'hours': 'Open 24 hours'}]]\u001b[0m\n",
      "Thought:\u001b[32;1m\u001b[1;3mAction: Search\n",
      "Action Input: Best hospital in visakhapatnam\u001b[0m\n",
      "Observation: \u001b[36;1m\u001b[1;3m['1429 Hospitals in Visakhapatnam. Find ✓Multispeciality Hospitals, ✓Private Hospitals, ✓Dental Hospital , ✓Government Hospitals in Visakhapatnam.', 'Best Hospitals in Visakhapatnam. Apollo Healthcity Hospital. Ram Nagar, Visakhapatnam. The fastest-growing liver transplant program ...', 'Hospitals in Visakhapatnam · Padmasri Hospital & IVF Centre · Apollo Health City · Apollo Healthcity Hospital · Asian Institute of Nephrology and Urology.', 'CARE Hospitals is one of the best hospitals in Visakhapatnam/Vizag. We provide services in over 30 specialities like Cardiology, Cardiothoracic Surgery, ...', \"Queen's NRI Hospital ranks among the best hospitals in Vishakhapatnam. With experience of over 25 years in service, we are committed to ...\", 'Private hospitals like St. Stephens Hospital, Vadamalayan Hospitals, and Apollo Specialty Hospital are known for their state-of-the-art facilities and ...', 'Best Multispeciality Hospital in Vizag - LG Hospitals · Gastroenterology · Obstetrics · Neurology · Neuro Surgery · ENT · Throat Care.', 'SevenHills Hospital provides a wide range of treatment options for patients with simple and complex health conditions. We have state–of–the–art facility with a ...', [{'position': 1, 'rating': 4.8, 'reviews_original': '(3.6K)', 'reviews': 3600, 'description': '\"Very Good Hospital and staff.\"', 'place_id': '17344706242249709391', 'place_id_search': 'https://serpapi.com/search.json?device=desktop&engine=google&gl=us&google_domain=google.com&hl=en&ludocid=17344706242249709391&q=Best+hospital+in+visakhapatnam', 'lsig': 'AB86z5WZjmae3RMVNDil5BiLmiyA', 'thumbnail': 'https://serpapi.com/searches/6692651f3bea7b9eb26a9bb3/images/36169dd3e07b0f70cda0eebe37e721c0fe3eac48e2bf7355d9c77aa524ec7a30f2fdc318e4d57dcd.png', 'links': {'website': 'https://vizag.apollohospitals.com/apollo-hospitals-vizag/', 'directions': 'https://www.google.com/maps/dir//Apollo+Hospitals+Ramnagar+Vizag,+Door+No+10,+Executive+Court,+50-80,+Waltair+Main+Rd,+opp.+Daspalla,+Ram+Nagar,+Visakhapatnam,+Andhra+Pradesh+530002,+India/data=!4m6!4m5!1m1!4e2!1m2!1m1!1s0x3a3943169c8fac4f:0xf0b4c66e5ecb574f?sa=X&ved=2ahUKEwi1gbD89KOHAxUYRjABHX0PAEMQ48ADegQIKxAA&hl=en&gl=us'}, 'title': 'Apollo Hospitals Ramnagar Vizag', 'type': 'General hospital', 'phone': '+91 89127 27272', 'address': 'Door No 10, Executive Court, 50-80, Waltair Main Rd, opp. Daspalla', 'hours': 'Open 24 hours'}, {'position': 2, 'rating': 4.6, 'reviews_original': '(4.6K)', 'reviews': 4600, 'description': '\"Giridhar hariprasad sir is well and good.\"', 'place_id': '7082085292577420721', 'place_id_search': 'https://serpapi.com/search.json?device=desktop&engine=google&gl=us&google_domain=google.com&hl=en&ludocid=7082085292577420721&q=Best+hospital+in+visakhapatnam', 'lsig': 'AB86z5WufmesofK2dzAY_wv_Wave', 'thumbnail': 'https://serpapi.com/searches/6692651f3bea7b9eb26a9bb3/images/36169dd3e07b0f70cda0eebe37e721c0d4e1b66eb340b76aa4befd355638a84e0bf90751c5533005.png', 'links': {'website': 'https://www.carehospitals.com/hospital-detail/care-super-specialty-hospital-ramnagar', 'directions': 'https://www.google.com/maps/dir//CARE+Hospitals,+Visakhapatnam+%7C+Best+Hospital+in+Vizag,+AS+Raja+Complex,+10-50-11%2F5,+Waltair+Main+Rd,+Ram+Nagar,+Visakhapatnam,+Andhra+Pradesh+530002,+India/data=!4m6!4m5!1m1!4e2!1m2!1m1!1s0x3a394315702cc723:0x62489f0d151875b1?sa=X&ved=2ahUKEwi1gbD89KOHAxUYRjABHX0PAEMQ48ADegQILBAA&hl=en&gl=us'}, 'title': 'CARE Hospitals, Visakhapatnam | Best Hospital in Vizag', 'type': 'Hospital', 'phone': '+91 40 6810 6589', 'address': 'AS Raja Complex, 10-50-11/5, Waltair Main Rd', 'hours': 'Open 24 hours'}, {'position': 3, 'rating': 4.5, 'reviews_original': '(9.4K)', 'reviews': 9400, 'description': '\"707 services good\"', 'place_id': '15281612444197320731', 'place_id_search': 'https://serpapi.com/search.json?device=desktop&engine=google&gl=us&google_domain=google.com&hl=en&ludocid=15281612444197320731&q=Best+hospital+in+visakhapatnam', 'lsig': 'AB86z5VR3rnWw-qppx-Ps3gNrJ1Y', 'thumbnail': 'https://serpapi.com/searches/6692651f3bea7b9eb26a9bb3/images/36169dd3e07b0f70cda0eebe37e721c00863fb85d86a59ba5a5afbcd961d358d2453ddfa95f69e3b.png', 'links': {'website': 'https://www.medicoverhospitals.in/hospitals/andhra-pradesh/visakhapatnam-mvp', 'directions': 'https://www.google.com/maps/dir//Medicover+Hospitals+%7C+Best+Multi-speciality+Hospital+in+Vizag,+Door+No-+1-1-83,+New+Venkojipalem+MVP+sector+6,+NH16,+near+Hp+Petrol+Bunk,+Visakhapatnam,+Andhra+Pradesh+530022,+India/data=!4m6!4m5!1m1!4e2!1m2!1m1!1s0x3a395dd7d9ba1013:0xd413318d7391f81b?sa=X&ved=2ahUKEwi1gbD89KOHAxUYRjABHX0PAEMQ48ADegQIKhAA&hl=en&gl=us'}, 'title': 'Medicover Hospitals | Best Multi-speciality Hospital in Vizag', 'type': 'Hospital', 'phone': '+91 40 6833 4455', 'address': 'Door No- 1-1-83, New Venkojipalem MVP sector 6, NH16, near Hp Petrol Bunk', 'hours': 'Open 24 hours'}]]\u001b[0m\n",
      "Thought:\u001b[32;1m\u001b[1;3mFinal Answer: Some of the best hospitals in Visakhapatnam are Apollo Hospitals Ramnagar Vizag, CARE Hospitals, Visakhapatnam, and Medicover Hospitals.\u001b[0m\n",
      "\n",
      "\u001b[1m> Finished chain.\u001b[0m\n"
     ]
    },
    {
     "data": {
      "text/plain": [
       "{'input': 'Best hospital in visakhapatnam',\n",
       " 'output': 'Some of the best hospitals in Visakhapatnam are Apollo Hospitals Ramnagar Vizag, CARE Hospitals, Visakhapatnam, and Medicover Hospitals.'}"
      ]
     },
     "execution_count": 17,
     "metadata": {},
     "output_type": "execute_result"
    }
   ],
   "source": [
    "agent.invoke(\"Best hospital in visakhapatnam\")"
   ]
  },
  {
   "cell_type": "code",
   "execution_count": null,
   "metadata": {},
   "outputs": [],
   "source": []
  }
 ],
 "metadata": {
  "kernelspec": {
   "display_name": "medical",
   "language": "python",
   "name": "python3"
  },
  "language_info": {
   "codemirror_mode": {
    "name": "ipython",
    "version": 3
   },
   "file_extension": ".py",
   "mimetype": "text/x-python",
   "name": "python",
   "nbconvert_exporter": "python",
   "pygments_lexer": "ipython3",
   "version": "3.10.14"
  }
 },
 "nbformat": 4,
 "nbformat_minor": 2
}
