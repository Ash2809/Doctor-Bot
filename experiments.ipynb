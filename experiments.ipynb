{
 "cells": [
  {
   "cell_type": "code",
   "execution_count": 21,
   "metadata": {},
   "outputs": [],
   "source": [
    "from langchain_google_genai import ChatGoogleGenerativeAI\n",
    "from langchain_google_genai import GoogleGenerativeAIEmbeddings\n",
    "from langchain_text_splitters import RecursiveCharacterTextSplitter\n",
    "from langchain.document_loaders import PyPDFLoader, DirectoryLoader\n",
    "from langchain_core.output_parsers import StrOutputParser\n",
    "from langchain_core.prompts import ChatPromptTemplate\n",
    "from langchain_core.runnables import RunnablePassthrough\n",
    "from langchain_astradb import AstraDBVectorStore\n",
    "from dotenv import load_dotenv\n",
    "import os"
   ]
  },
  {
   "cell_type": "code",
   "execution_count": 3,
   "metadata": {},
   "outputs": [],
   "source": [
    "load_dotenv()\n",
    "GOOGLE_API_KEY = os.getenv(\"GOOGLE_API_KEY\")\n",
    "\n",
    "llm = ChatGoogleGenerativeAI(temperature = 0.4,model = \"gemini-pro\")"
   ]
  },
  {
   "cell_type": "code",
   "execution_count": 4,
   "metadata": {},
   "outputs": [
    {
     "name": "stdout",
     "output_type": "stream",
     "text": [
      "I am Gemini, a multi-modal AI language model developed by Google. I am designed to understand and generate human language, answer questions, and provide information on a wide range of topics. I am still under development, but I am learning new things every day.\n"
     ]
    }
   ],
   "source": [
    "print(llm.invoke(\"Who are you?.\").content)"
   ]
  },
  {
   "cell_type": "code",
   "execution_count": 5,
   "metadata": {},
   "outputs": [],
   "source": [
    "gemini_embeddings = GoogleGenerativeAIEmbeddings(model = \"models/embedding-001\")"
   ]
  },
  {
   "cell_type": "code",
   "execution_count": 12,
   "metadata": {},
   "outputs": [],
   "source": [
    "def load_pdf(data):\n",
    "    loader = DirectoryLoader(data,glob = \"*.pdf\",loader_cls = PyPDFLoader)\n",
    "    documents = loader.load()\n",
    "    return documents"
   ]
  },
  {
   "cell_type": "code",
   "execution_count": 13,
   "metadata": {},
   "outputs": [
    {
     "data": {
      "text/plain": [
       "637"
      ]
     },
     "execution_count": 13,
     "metadata": {},
     "output_type": "execute_result"
    }
   ],
   "source": [
    "extracted_documents = load_pdf(\"data/\")\n",
    "len(extracted_documents)"
   ]
  },
  {
   "cell_type": "code",
   "execution_count": 14,
   "metadata": {},
   "outputs": [],
   "source": [
    "def split_chunks(extracted_documents):\n",
    "    splitter = RecursiveCharacterTextSplitter(chunk_size = 500,chunk_overlap = 20)\n",
    "    text_chunks = splitter.split_documents(extracted_documents)\n",
    "    return text_chunks"
   ]
  },
  {
   "cell_type": "code",
   "execution_count": 15,
   "metadata": {},
   "outputs": [
    {
     "name": "stdout",
     "output_type": "stream",
     "text": [
      "7020 \n",
      "\n",
      "[Document(metadata={'source': 'data\\\\Medical_book.pdf', 'page': 1}, page_content='TheGALE\\nENCYCLOPEDIA\\nofMEDICINE\\nSECOND EDITION'), Document(metadata={'source': 'data\\\\Medical_book.pdf', 'page': 2}, page_content='TheGALE\\nENCYCLOPEDIA\\nofMEDICINE\\nSECOND EDITION\\nJACQUELINE L. LONGE, EDITOR\\nDEIRDRE S. BLANCHFIELD, ASSOCIATE EDITOR\\nVOLUME\\nA-B1'), Document(metadata={'source': 'data\\\\Medical_book.pdf', 'page': 3}, page_content='STAFF\\nJacqueline L. Longe, Project Editor\\nDeirdre S. Blanchfield, Associate Editor\\nChristine B. Jeryan, Managing Editor\\nDonna Olendorf, Senior Editor\\nStacey Blachford, Associate Editor\\nKate Kretschmann, Melissa C. McDade, Ryan\\nThomason, Assistant Editors\\nMark Springer, Technical Specialist\\nAndrea Lopeman, Programmer/Analyst\\nBarbara J. Yarrow, Manager, Imaging and Multimedia\\nContent\\nRobyn V . Young, Project Manager, Imaging and\\nMultimedia Content\\nDean Dauphinais, Senior Editor, Imaging and'), Document(metadata={'source': 'data\\\\Medical_book.pdf', 'page': 3}, page_content='Multimedia Content\\nKelly A. Quin, Editor, Imaging and Multimedia Content\\nLeitha Etheridge-Sims, Mary K. Grimes, Dave Oblender,\\nImage Catalogers\\nPamela A. Reed, Imaging Coordinator\\nRandy Bassett, Imaging Supervisor\\nRobert Duncan, Senior Imaging Specialist\\nDan Newell, Imaging Specialist\\nChristine O’Bryan, Graphic Specialist\\nMaria Franklin, Permissions Manager\\nMargaret A. Chamberlain, Permissions Specialist\\nMichelle DiMercurio, Senior Art Director\\nMike Logusz, Graphic Artist'), Document(metadata={'source': 'data\\\\Medical_book.pdf', 'page': 3}, page_content='Mary Beth Trimper, Manager, Composition and\\nElectronic Prepress\\nEvi Seoud, Assistant Manager, Composition Purchasing\\nand Electronic Prepress\\nDorothy Maki, Manufacturing Manager\\nWendy Blurton, Senior Manufacturing SpecialistThe GALE\\nENCYCLOPEDIA\\nof MEDICINE\\nSECOND EDITIONSince this page cannot legibly accommodate all copyright notices, the\\nacknowledgments constitute an extension of the copyright notice.\\nWhile every effort has been made to ensure the reliability of the infor-')]\n"
     ]
    }
   ],
   "source": [
    "text_chunks = split_chunks(extracted_documents)\n",
    "print(len(text_chunks),\"\\n\")\n",
    "print(text_chunks[:5])"
   ]
  },
  {
   "cell_type": "code",
   "execution_count": 16,
   "metadata": {},
   "outputs": [],
   "source": [
    "ASTRA_DB_API = os.getenv(\"ASTRA_TOKEN\")\n",
    "ASTRA_ENDPOINT = os.getenv(\"DB_ENDPOINT\")\n",
    "def ingest(status):\n",
    "    vector_store = AstraDBVectorStore(token = ASTRA_DB_API,\n",
    "                                      api_endpoint = ASTRA_ENDPOINT,\n",
    "                                      embedding = gemini_embeddings,\n",
    "                                      namespace = \"default_keyspace\",\n",
    "                                      collection_name = \"Medical\")\n",
    "    is_full = status\n",
    "    if is_full == None:#THIS MEANS THERE IS NO VECTORS CREATED IN DB\n",
    "        inserted_ids = vector_store.add_documents(text_chunks)\n",
    "    else:\n",
    "        return vector_store\n",
    "    \n",
    "    \n",
    "    return vector_store,inserted_ids\n",
    "\n",
    "    "
   ]
  },
  {
   "cell_type": "code",
   "execution_count": 17,
   "metadata": {},
   "outputs": [
    {
     "name": "stdout",
     "output_type": "stream",
     "text": [
      "inserted 7020 documents.\n"
     ]
    }
   ],
   "source": [
    "vector_store,inserted_ids = ingest(None)#None cuz we are making the DB for first time\n",
    "print(f\"inserted {len(inserted_ids)} documents.\")"
   ]
  },
  {
   "cell_type": "code",
   "execution_count": 20,
   "metadata": {},
   "outputs": [
    {
     "name": "stdout",
     "output_type": "stream",
     "text": [
      "* heal, but rather becomescarred, a process known as fibrosis. The lack of a nor-mal amount of oxygen causes the blood vessels of thelung to become narrower, and in time they, too, maybecome scarred and filled with clotted blood. The lungsas a whole become very “stiff,” and it becomes muchharder for the patient to breathe. [{'source': 'data\\\\Medical_book.pdf', 'page': 80}]\n",
      "* inflammations of the air passages, their causes and treat-ments are different. Acute bronchitis is most prevalent inwinter. It usually follows a viral infection, such as a coldor the flu, and can be accompanied by a secondary bacter-ial infection. Acute bronchitis resolves within two weeks,although the cough may persist longer. Acute bronchitis,\n",
      "like any upper airway inflammatory process, can increasea person’s likelihood of developing pneumonia . [{'source': 'data\\\\Medical_book.pdf', 'page': 611}]\n",
      "* and the production of infected sputum (sputum is a mix-ture of mucus and pus), which may be bloody. In somecases, there may be wheezing and shortness of breath .\n",
      "The constant, low-level of infection may flare, resultingin increased production of sputum, worsening of thecough, and fever . The area of the lung served by the\n",
      "affected bronchial tube may become severely infected,resulting in pneumonia . [{'source': 'data\\\\Medical_book.pdf', 'page': 609}]\n",
      "* very anxious, sit upright, lean forward, and use the mus-cles of the neck and chest wall to help breathe. Thepatient may be able to say only a few words at a timebefore stopping to take a breath. Confusion and a bluishtint to the skin are clues that the oxygen supply is muchtoo low, and that emergency treatment is needed. In asevere attack that lasts for some time, some of the airsacs in the lung may rupture so that air collects withinthe chest. This makes it even harder to breathe in [{'source': 'data\\\\Medical_book.pdf', 'page': 394}]\n"
     ]
    }
   ],
   "source": [
    "results = vector_store.similarity_search(\"What is pneumonia?\")\n",
    "for res in results:\n",
    "    print(f\"* {res.page_content} [{res.metadata}]\")"
   ]
  },
  {
   "cell_type": "code",
   "execution_count": 67,
   "metadata": {},
   "outputs": [],
   "source": [
    "retriever = vector_store.as_retriever(search_kwargs={\"k\": 3})\n",
    "\n",
    "template = \"\"\"You are a medical Chatbot who is expert in medicine knowledge and cure Context: {context}\n",
    "Question: {question} Use the context for answer generation\n",
    "\"\"\"\n",
    "\n",
    "# template=\"\"\"\n",
    "# Use the following pieces of information to answer the user's question.\n",
    "\n",
    "# Context: {context}\n",
    "# Question: {question}\n",
    "\n",
    "#  .If user asks for medication then give name of them\n",
    "# Helpful answer:\n",
    "# \"\"\"\n",
    "\n",
    "prompt=ChatPromptTemplate.from_template(template)\n"
   ]
  },
  {
   "cell_type": "code",
   "execution_count": 73,
   "metadata": {},
   "outputs": [],
   "source": [
    "chain = ({\"context\":retriever,\"question\":RunnablePassthrough()}|prompt|llm|StrOutputParser())\n",
    "response = chain.invoke(\"What is Malaria\")"
   ]
  },
  {
   "cell_type": "code",
   "execution_count": 74,
   "metadata": {},
   "outputs": [
    {
     "name": "stdout",
     "output_type": "stream",
     "text": [
      "Malaria is a disease caused by the presence of sporozoan parasites of the genus Plasmodium in the red blood cells, transmitted by the bite of anopheline mosquitoes, and characterized by severe and recurring attacks of chills and fever.\n"
     ]
    }
   ],
   "source": [
    "print(response)"
   ]
  },
  {
   "cell_type": "code",
   "execution_count": null,
   "metadata": {},
   "outputs": [],
   "source": []
  }
 ],
 "metadata": {
  "kernelspec": {
   "display_name": "medical",
   "language": "python",
   "name": "python3"
  },
  "language_info": {
   "codemirror_mode": {
    "name": "ipython",
    "version": 3
   },
   "file_extension": ".py",
   "mimetype": "text/x-python",
   "name": "python",
   "nbconvert_exporter": "python",
   "pygments_lexer": "ipython3",
   "version": "3.10.14"
  }
 },
 "nbformat": 4,
 "nbformat_minor": 2
}
